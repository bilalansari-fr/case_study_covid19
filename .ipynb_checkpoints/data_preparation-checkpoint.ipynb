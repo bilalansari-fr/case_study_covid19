{
 "cells": [
  {
   "cell_type": "markdown",
   "id": "featured-dream",
   "metadata": {},
   "source": [
    "\n",
    "# <center> Data Preparation </center>\n",
    "<HR>"
   ]
  },
  {
   "cell_type": "markdown",
   "id": "atlantic-thomson",
   "metadata": {},
   "source": [
    "<div style='text-align: justify'>\n",
    "In this notebook, we will manipulate raw data of covid19 as per the requirement of our case study. We want to perform the statistical test, ANOVA on our formulated hypothesis such as difference in number of covid19 cases across the different regions are significant.\n",
    "So, we will aggregate the data into four different regions based on the continents and consider the 20 countries from each regions for our case study. Data has been collected on 9th May 2020 from Johns Hopkins University.\n",
    "</div>\n",
    "\n",
    "Data Source: [Covid19 data Johns Hopkins University](https://github.com/CSSEGISandData/COVID-19)\n",
    "\n",
    "[]()\n",
    "\n",
    "Follow [notebook case_study](case_study.ipynb) for statistical test"
   ]
  },
  {
   "cell_type": "code",
   "execution_count": 1,
   "id": "maritime-placement",
   "metadata": {},
   "outputs": [],
   "source": [
    "import pandas as pd\n",
    "import pycountry_convert as pc"
   ]
  },
  {
   "cell_type": "markdown",
   "id": "agricultural-quantum",
   "metadata": {},
   "source": [
    "**Load the data into the memory**"
   ]
  },
  {
   "cell_type": "code",
   "execution_count": 2,
   "id": "italian-lexington",
   "metadata": {},
   "outputs": [],
   "source": [
    "df = pd.read_csv('data/covid_data_05-09-2020.csv')"
   ]
  },
  {
   "cell_type": "code",
   "execution_count": 3,
   "id": "angry-multiple",
   "metadata": {},
   "outputs": [
    {
     "data": {
      "text/html": [
       "<div>\n",
       "<style scoped>\n",
       "    .dataframe tbody tr th:only-of-type {\n",
       "        vertical-align: middle;\n",
       "    }\n",
       "\n",
       "    .dataframe tbody tr th {\n",
       "        vertical-align: top;\n",
       "    }\n",
       "\n",
       "    .dataframe thead th {\n",
       "        text-align: right;\n",
       "    }\n",
       "</style>\n",
       "<table border=\"1\" class=\"dataframe\">\n",
       "  <thead>\n",
       "    <tr style=\"text-align: right;\">\n",
       "      <th></th>\n",
       "      <th>FIPS</th>\n",
       "      <th>Admin2</th>\n",
       "      <th>Province_State</th>\n",
       "      <th>Country_Region</th>\n",
       "      <th>Last_Update</th>\n",
       "      <th>Lat</th>\n",
       "      <th>Long_</th>\n",
       "      <th>Confirmed</th>\n",
       "      <th>Deaths</th>\n",
       "      <th>Recovered</th>\n",
       "      <th>Active</th>\n",
       "      <th>Combined_Key</th>\n",
       "      <th>Incident_Rate</th>\n",
       "      <th>Case_Fatality_Ratio</th>\n",
       "    </tr>\n",
       "  </thead>\n",
       "  <tbody>\n",
       "    <tr>\n",
       "      <th>0</th>\n",
       "      <td>NaN</td>\n",
       "      <td>NaN</td>\n",
       "      <td>NaN</td>\n",
       "      <td>Afghanistan</td>\n",
       "      <td>2021-03-02 05:23:30</td>\n",
       "      <td>33.93911</td>\n",
       "      <td>67.709953</td>\n",
       "      <td>55733</td>\n",
       "      <td>2444</td>\n",
       "      <td>49344</td>\n",
       "      <td>3945.0</td>\n",
       "      <td>Afghanistan</td>\n",
       "      <td>143.168187</td>\n",
       "      <td>4.385194</td>\n",
       "    </tr>\n",
       "    <tr>\n",
       "      <th>1</th>\n",
       "      <td>NaN</td>\n",
       "      <td>NaN</td>\n",
       "      <td>NaN</td>\n",
       "      <td>Albania</td>\n",
       "      <td>2021-03-02 05:23:30</td>\n",
       "      <td>41.15330</td>\n",
       "      <td>20.168300</td>\n",
       "      <td>107931</td>\n",
       "      <td>1816</td>\n",
       "      <td>70413</td>\n",
       "      <td>35702.0</td>\n",
       "      <td>Albania</td>\n",
       "      <td>3750.469108</td>\n",
       "      <td>1.682556</td>\n",
       "    </tr>\n",
       "    <tr>\n",
       "      <th>2</th>\n",
       "      <td>NaN</td>\n",
       "      <td>NaN</td>\n",
       "      <td>NaN</td>\n",
       "      <td>Algeria</td>\n",
       "      <td>2021-03-02 05:23:30</td>\n",
       "      <td>28.03390</td>\n",
       "      <td>1.659600</td>\n",
       "      <td>113255</td>\n",
       "      <td>2987</td>\n",
       "      <td>78234</td>\n",
       "      <td>32034.0</td>\n",
       "      <td>Algeria</td>\n",
       "      <td>258.272078</td>\n",
       "      <td>2.637411</td>\n",
       "    </tr>\n",
       "    <tr>\n",
       "      <th>3</th>\n",
       "      <td>NaN</td>\n",
       "      <td>NaN</td>\n",
       "      <td>NaN</td>\n",
       "      <td>Andorra</td>\n",
       "      <td>2021-03-02 05:23:30</td>\n",
       "      <td>42.50630</td>\n",
       "      <td>1.521800</td>\n",
       "      <td>10889</td>\n",
       "      <td>110</td>\n",
       "      <td>10475</td>\n",
       "      <td>304.0</td>\n",
       "      <td>Andorra</td>\n",
       "      <td>14093.056364</td>\n",
       "      <td>1.010194</td>\n",
       "    </tr>\n",
       "    <tr>\n",
       "      <th>4</th>\n",
       "      <td>NaN</td>\n",
       "      <td>NaN</td>\n",
       "      <td>NaN</td>\n",
       "      <td>Angola</td>\n",
       "      <td>2021-03-02 05:23:30</td>\n",
       "      <td>-11.20270</td>\n",
       "      <td>17.873900</td>\n",
       "      <td>20854</td>\n",
       "      <td>508</td>\n",
       "      <td>19400</td>\n",
       "      <td>946.0</td>\n",
       "      <td>Angola</td>\n",
       "      <td>63.451074</td>\n",
       "      <td>2.435984</td>\n",
       "    </tr>\n",
       "  </tbody>\n",
       "</table>\n",
       "</div>"
      ],
      "text/plain": [
       "   FIPS Admin2 Province_State Country_Region          Last_Update       Lat  \\\n",
       "0   NaN    NaN            NaN    Afghanistan  2021-03-02 05:23:30  33.93911   \n",
       "1   NaN    NaN            NaN        Albania  2021-03-02 05:23:30  41.15330   \n",
       "2   NaN    NaN            NaN        Algeria  2021-03-02 05:23:30  28.03390   \n",
       "3   NaN    NaN            NaN        Andorra  2021-03-02 05:23:30  42.50630   \n",
       "4   NaN    NaN            NaN         Angola  2021-03-02 05:23:30 -11.20270   \n",
       "\n",
       "       Long_  Confirmed  Deaths  Recovered   Active Combined_Key  \\\n",
       "0  67.709953      55733    2444      49344   3945.0  Afghanistan   \n",
       "1  20.168300     107931    1816      70413  35702.0      Albania   \n",
       "2   1.659600     113255    2987      78234  32034.0      Algeria   \n",
       "3   1.521800      10889     110      10475    304.0      Andorra   \n",
       "4  17.873900      20854     508      19400    946.0       Angola   \n",
       "\n",
       "   Incident_Rate  Case_Fatality_Ratio  \n",
       "0     143.168187             4.385194  \n",
       "1    3750.469108             1.682556  \n",
       "2     258.272078             2.637411  \n",
       "3   14093.056364             1.010194  \n",
       "4      63.451074             2.435984  "
      ]
     },
     "execution_count": 3,
     "metadata": {},
     "output_type": "execute_result"
    }
   ],
   "source": [
    "df.head()"
   ]
  },
  {
   "cell_type": "markdown",
   "id": "collect-functionality",
   "metadata": {},
   "source": [
    "**Aggregate the data by Country_Region**\n",
    "\n",
    "Aggregate the data by Country_Region and select required columns for our study such as confirmed covid cases, death etc."
   ]
  },
  {
   "cell_type": "code",
   "execution_count": 4,
   "id": "legitimate-berlin",
   "metadata": {},
   "outputs": [],
   "source": [
    "df = df.groupby('Country_Region')[['Confirmed', \n",
    "                                   'Deaths', 'Recovered', 'Active']].sum()\n",
    "df = df.reset_index()\n",
    "# Rename column Country_Region to Country\n",
    "df = df.rename(columns={'Country_Region': 'Country'})"
   ]
  },
  {
   "cell_type": "code",
   "execution_count": 5,
   "id": "listed-above",
   "metadata": {},
   "outputs": [
    {
     "data": {
      "text/html": [
       "<div>\n",
       "<style scoped>\n",
       "    .dataframe tbody tr th:only-of-type {\n",
       "        vertical-align: middle;\n",
       "    }\n",
       "\n",
       "    .dataframe tbody tr th {\n",
       "        vertical-align: top;\n",
       "    }\n",
       "\n",
       "    .dataframe thead th {\n",
       "        text-align: right;\n",
       "    }\n",
       "</style>\n",
       "<table border=\"1\" class=\"dataframe\">\n",
       "  <thead>\n",
       "    <tr style=\"text-align: right;\">\n",
       "      <th></th>\n",
       "      <th>Country</th>\n",
       "      <th>Confirmed</th>\n",
       "      <th>Deaths</th>\n",
       "      <th>Recovered</th>\n",
       "      <th>Active</th>\n",
       "    </tr>\n",
       "  </thead>\n",
       "  <tbody>\n",
       "    <tr>\n",
       "      <th>0</th>\n",
       "      <td>Afghanistan</td>\n",
       "      <td>55733</td>\n",
       "      <td>2444</td>\n",
       "      <td>49344</td>\n",
       "      <td>3945.0</td>\n",
       "    </tr>\n",
       "    <tr>\n",
       "      <th>1</th>\n",
       "      <td>Albania</td>\n",
       "      <td>107931</td>\n",
       "      <td>1816</td>\n",
       "      <td>70413</td>\n",
       "      <td>35702.0</td>\n",
       "    </tr>\n",
       "    <tr>\n",
       "      <th>2</th>\n",
       "      <td>Algeria</td>\n",
       "      <td>113255</td>\n",
       "      <td>2987</td>\n",
       "      <td>78234</td>\n",
       "      <td>32034.0</td>\n",
       "    </tr>\n",
       "    <tr>\n",
       "      <th>3</th>\n",
       "      <td>Andorra</td>\n",
       "      <td>10889</td>\n",
       "      <td>110</td>\n",
       "      <td>10475</td>\n",
       "      <td>304.0</td>\n",
       "    </tr>\n",
       "    <tr>\n",
       "      <th>4</th>\n",
       "      <td>Angola</td>\n",
       "      <td>20854</td>\n",
       "      <td>508</td>\n",
       "      <td>19400</td>\n",
       "      <td>946.0</td>\n",
       "    </tr>\n",
       "  </tbody>\n",
       "</table>\n",
       "</div>"
      ],
      "text/plain": [
       "       Country  Confirmed  Deaths  Recovered   Active\n",
       "0  Afghanistan      55733    2444      49344   3945.0\n",
       "1      Albania     107931    1816      70413  35702.0\n",
       "2      Algeria     113255    2987      78234  32034.0\n",
       "3      Andorra      10889     110      10475    304.0\n",
       "4       Angola      20854     508      19400    946.0"
      ]
     },
     "execution_count": 5,
     "metadata": {},
     "output_type": "execute_result"
    }
   ],
   "source": [
    "df.head()"
   ]
  },
  {
   "cell_type": "markdown",
   "id": "handmade-certificate",
   "metadata": {},
   "source": [
    "**Missing Values in data**"
   ]
  },
  {
   "cell_type": "code",
   "execution_count": 6,
   "id": "sudden-bulgaria",
   "metadata": {},
   "outputs": [
    {
     "data": {
      "text/plain": [
       "Country      0\n",
       "Confirmed    0\n",
       "Deaths       0\n",
       "Recovered    0\n",
       "Active       0\n",
       "dtype: int64"
      ]
     },
     "execution_count": 6,
     "metadata": {},
     "output_type": "execute_result"
    }
   ],
   "source": [
    "df.isnull().sum()"
   ]
  },
  {
   "cell_type": "markdown",
   "id": "ideal-siemens",
   "metadata": {},
   "source": [
    "**Categories the countries into continents**"
   ]
  },
  {
   "cell_type": "code",
   "execution_count": 7,
   "id": "mature-summary",
   "metadata": {},
   "outputs": [],
   "source": [
    "def country_to_continent(country_name:str) -> str:\n",
    "    \"\"\"find continent name of the country\"\"\"\n",
    "    try:\n",
    "        country_alpha2 = pc.country_name_to_country_alpha2(country_name)\n",
    "        continent_code = pc.country_alpha2_to_continent_code(country_alpha2)\n",
    "        continent_name = pc.convert_continent_code_to_continent_name(continent_code)\n",
    "    except:\n",
    "        #if country_name is invalid \n",
    "        continent_name = pd.NA\n",
    "    return continent_name"
   ]
  },
  {
   "cell_type": "code",
   "execution_count": 8,
   "id": "naked-hollow",
   "metadata": {},
   "outputs": [],
   "source": [
    "# Change 'US' to 'United States' in Country field Otherwise country name is considered invalid\n",
    "df.loc[df.Country=='US', 'Country'] = 'United States'\n",
    "# find continent name for the countries\n",
    "df['Continent'] = df.Country.map(country_to_continent)"
   ]
  },
  {
   "cell_type": "markdown",
   "id": "developed-oracle",
   "metadata": {},
   "source": [
    "**Categories the continents into the following four regions for our case study:**\n",
    "    \n",
    "    AFRO: Africa\n",
    "    \n",
    "    AMER: North America and South America\n",
    "    \n",
    "    EURO: Europe\n",
    "    \n",
    "    OCEA: Asia and Oceania"
   ]
  },
  {
   "cell_type": "code",
   "execution_count": 9,
   "id": "weighted-participation",
   "metadata": {},
   "outputs": [],
   "source": [
    "df['Region'] = df.Continent.map({'Africa': 'AFRO', \n",
    "                                 'North America': 'AMR',\n",
    "                                 'South America': 'AMR',\n",
    "                                 'Europe': \"EURO\",\n",
    "                                 'Asia': 'OCEA',\n",
    "                                 'Oceania': 'OCEA'})"
   ]
  },
  {
   "cell_type": "markdown",
   "id": "broke-ontario",
   "metadata": {},
   "source": [
    "**Consider 20 top most affected countries from each region for the study**"
   ]
  },
  {
   "cell_type": "code",
   "execution_count": 10,
   "id": "caroline-reconstruction",
   "metadata": {},
   "outputs": [],
   "source": [
    "df = df.groupby(['Region']) \\\n",
    "    .apply(lambda x: x.sort_values(['Confirmed'], ascending=False)) \\\n",
    "    .reset_index(drop=True) \\\n",
    "    .groupby(['Region']) \\\n",
    "    .head(20)"
   ]
  },
  {
   "cell_type": "code",
   "execution_count": 11,
   "id": "protective-exclusive",
   "metadata": {},
   "outputs": [
    {
     "data": {
      "text/html": [
       "<div>\n",
       "<style scoped>\n",
       "    .dataframe tbody tr th:only-of-type {\n",
       "        vertical-align: middle;\n",
       "    }\n",
       "\n",
       "    .dataframe tbody tr th {\n",
       "        vertical-align: top;\n",
       "    }\n",
       "\n",
       "    .dataframe thead th {\n",
       "        text-align: right;\n",
       "    }\n",
       "</style>\n",
       "<table border=\"1\" class=\"dataframe\">\n",
       "  <thead>\n",
       "    <tr style=\"text-align: right;\">\n",
       "      <th></th>\n",
       "      <th>Country</th>\n",
       "      <th>Confirmed</th>\n",
       "      <th>Deaths</th>\n",
       "      <th>Recovered</th>\n",
       "      <th>Active</th>\n",
       "      <th>Continent</th>\n",
       "      <th>Region</th>\n",
       "    </tr>\n",
       "  </thead>\n",
       "  <tbody>\n",
       "    <tr>\n",
       "      <th>144</th>\n",
       "      <td>Nepal</td>\n",
       "      <td>274216</td>\n",
       "      <td>2777</td>\n",
       "      <td>270471</td>\n",
       "      <td>968.0</td>\n",
       "      <td>Asia</td>\n",
       "      <td>OCEA</td>\n",
       "    </tr>\n",
       "    <tr>\n",
       "      <th>145</th>\n",
       "      <td>Georgia</td>\n",
       "      <td>270918</td>\n",
       "      <td>3520</td>\n",
       "      <td>265523</td>\n",
       "      <td>1875.0</td>\n",
       "      <td>Asia</td>\n",
       "      <td>OCEA</td>\n",
       "    </tr>\n",
       "    <tr>\n",
       "      <th>146</th>\n",
       "      <td>Kazakhstan</td>\n",
       "      <td>263396</td>\n",
       "      <td>3168</td>\n",
       "      <td>240302</td>\n",
       "      <td>19926.0</td>\n",
       "      <td>Asia</td>\n",
       "      <td>OCEA</td>\n",
       "    </tr>\n",
       "    <tr>\n",
       "      <th>147</th>\n",
       "      <td>Azerbaijan</td>\n",
       "      <td>234662</td>\n",
       "      <td>3223</td>\n",
       "      <td>228839</td>\n",
       "      <td>2600.0</td>\n",
       "      <td>Asia</td>\n",
       "      <td>OCEA</td>\n",
       "    </tr>\n",
       "    <tr>\n",
       "      <th>148</th>\n",
       "      <td>Kuwait</td>\n",
       "      <td>192031</td>\n",
       "      <td>1085</td>\n",
       "      <td>180155</td>\n",
       "      <td>10791.0</td>\n",
       "      <td>Asia</td>\n",
       "      <td>OCEA</td>\n",
       "    </tr>\n",
       "  </tbody>\n",
       "</table>\n",
       "</div>"
      ],
      "text/plain": [
       "        Country  Confirmed  Deaths  Recovered   Active Continent Region\n",
       "144       Nepal     274216    2777     270471    968.0      Asia   OCEA\n",
       "145     Georgia     270918    3520     265523   1875.0      Asia   OCEA\n",
       "146  Kazakhstan     263396    3168     240302  19926.0      Asia   OCEA\n",
       "147  Azerbaijan     234662    3223     228839   2600.0      Asia   OCEA\n",
       "148      Kuwait     192031    1085     180155  10791.0      Asia   OCEA"
      ]
     },
     "execution_count": 11,
     "metadata": {},
     "output_type": "execute_result"
    }
   ],
   "source": [
    "df.tail()"
   ]
  },
  {
   "cell_type": "markdown",
   "id": "broad-citizenship",
   "metadata": {},
   "source": [
    "**Save the preprocessed data**"
   ]
  },
  {
   "cell_type": "code",
   "execution_count": 12,
   "id": "dying-reducing",
   "metadata": {},
   "outputs": [],
   "source": [
    "df.to_csv('data/covid19_preprocessed_data.csv', index=False)"
   ]
  },
  {
   "cell_type": "code",
   "execution_count": null,
   "id": "copyrighted-mapping",
   "metadata": {},
   "outputs": [],
   "source": []
  },
  {
   "cell_type": "code",
   "execution_count": null,
   "id": "requested-sewing",
   "metadata": {},
   "outputs": [],
   "source": []
  }
 ],
 "metadata": {
  "kernelspec": {
   "display_name": "Python 3",
   "language": "python",
   "name": "python3"
  },
  "language_info": {
   "codemirror_mode": {
    "name": "ipython",
    "version": 3
   },
   "file_extension": ".py",
   "mimetype": "text/x-python",
   "name": "python",
   "nbconvert_exporter": "python",
   "pygments_lexer": "ipython3",
   "version": "3.7.6"
  }
 },
 "nbformat": 4,
 "nbformat_minor": 5
}
