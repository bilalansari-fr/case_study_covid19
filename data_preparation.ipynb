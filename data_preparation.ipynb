{
 "cells": [
  {
   "cell_type": "markdown",
   "id": "featured-dream",
   "metadata": {},
   "source": [
    "\n",
    "# <center> Data Preparation </center>\n",
    "<HR>"
   ]
  },
  {
   "cell_type": "markdown",
   "id": "atlantic-thomson",
   "metadata": {},
   "source": [
    "<div style='text-align: justify'>\n",
    "In this notebook, we will manipulate raw data of covid19 as per the requirement of our case study. We want to perform the statistical test, ANOVA on our formulated hypothesis such as difference in number of covid19 cases across the different regions are significant.\n",
    "So, we will aggregate the data into four different regions based on the continents and consider the 20 countries from each regions for our case study. Data has been collected on 9th May 2020 from Johns Hopkins University.\n",
    "</div>\n",
    "\n",
    "Data Source: [Covid19 data Johns Hopkins University](https://github.com/CSSEGISandData/COVID-19)\n",
    "\n",
    "[]()\n",
    "\n",
    "Follow [notebook case_study](case_study.ipynb) for statistical test"
   ]
  },
  {
   "cell_type": "code",
   "execution_count": 1,
   "id": "maritime-placement",
   "metadata": {},
   "outputs": [],
   "source": [
    "import pandas as pd\n",
    "import pycountry_convert as pc"
   ]
  },
  {
   "cell_type": "markdown",
   "id": "agricultural-quantum",
   "metadata": {},
   "source": [
    "**Load the data into the memory**"
   ]
  },
  {
   "cell_type": "code",
   "execution_count": 2,
   "id": "italian-lexington",
   "metadata": {},
   "outputs": [],
   "source": [
    "df = pd.read_csv('data/covid_data_05-09-2020.csv')"
   ]
  },
  {
   "cell_type": "code",
   "execution_count": 3,
   "id": "angry-multiple",
   "metadata": {},
   "outputs": [
    {
     "data": {
      "text/html": [
       "<div>\n",
       "<style scoped>\n",
       "    .dataframe tbody tr th:only-of-type {\n",
       "        vertical-align: middle;\n",
       "    }\n",
       "\n",
       "    .dataframe tbody tr th {\n",
       "        vertical-align: top;\n",
       "    }\n",
       "\n",
       "    .dataframe thead th {\n",
       "        text-align: right;\n",
       "    }\n",
       "</style>\n",
       "<table border=\"1\" class=\"dataframe\">\n",
       "  <thead>\n",
       "    <tr style=\"text-align: right;\">\n",
       "      <th></th>\n",
       "      <th>FIPS</th>\n",
       "      <th>Admin2</th>\n",
       "      <th>Province_State</th>\n",
       "      <th>Country_Region</th>\n",
       "      <th>Last_Update</th>\n",
       "      <th>Lat</th>\n",
       "      <th>Long_</th>\n",
       "      <th>Confirmed</th>\n",
       "      <th>Deaths</th>\n",
       "      <th>Recovered</th>\n",
       "      <th>Active</th>\n",
       "      <th>Combined_Key</th>\n",
       "    </tr>\n",
       "  </thead>\n",
       "  <tbody>\n",
       "    <tr>\n",
       "      <th>0</th>\n",
       "      <td>45001.0</td>\n",
       "      <td>Abbeville</td>\n",
       "      <td>South Carolina</td>\n",
       "      <td>US</td>\n",
       "      <td>2020-05-10 02:32:30</td>\n",
       "      <td>34.223334</td>\n",
       "      <td>-82.461707</td>\n",
       "      <td>34</td>\n",
       "      <td>0</td>\n",
       "      <td>0</td>\n",
       "      <td>34</td>\n",
       "      <td>Abbeville, South Carolina, US</td>\n",
       "    </tr>\n",
       "    <tr>\n",
       "      <th>1</th>\n",
       "      <td>22001.0</td>\n",
       "      <td>Acadia</td>\n",
       "      <td>Louisiana</td>\n",
       "      <td>US</td>\n",
       "      <td>2020-05-10 02:32:30</td>\n",
       "      <td>30.295065</td>\n",
       "      <td>-92.414197</td>\n",
       "      <td>151</td>\n",
       "      <td>11</td>\n",
       "      <td>0</td>\n",
       "      <td>140</td>\n",
       "      <td>Acadia, Louisiana, US</td>\n",
       "    </tr>\n",
       "    <tr>\n",
       "      <th>2</th>\n",
       "      <td>51001.0</td>\n",
       "      <td>Accomack</td>\n",
       "      <td>Virginia</td>\n",
       "      <td>US</td>\n",
       "      <td>2020-05-10 02:32:30</td>\n",
       "      <td>37.767072</td>\n",
       "      <td>-75.632346</td>\n",
       "      <td>496</td>\n",
       "      <td>7</td>\n",
       "      <td>0</td>\n",
       "      <td>489</td>\n",
       "      <td>Accomack, Virginia, US</td>\n",
       "    </tr>\n",
       "    <tr>\n",
       "      <th>3</th>\n",
       "      <td>16001.0</td>\n",
       "      <td>Ada</td>\n",
       "      <td>Idaho</td>\n",
       "      <td>US</td>\n",
       "      <td>2020-05-10 02:32:30</td>\n",
       "      <td>43.452658</td>\n",
       "      <td>-116.241552</td>\n",
       "      <td>731</td>\n",
       "      <td>19</td>\n",
       "      <td>0</td>\n",
       "      <td>712</td>\n",
       "      <td>Ada, Idaho, US</td>\n",
       "    </tr>\n",
       "    <tr>\n",
       "      <th>4</th>\n",
       "      <td>19001.0</td>\n",
       "      <td>Adair</td>\n",
       "      <td>Iowa</td>\n",
       "      <td>US</td>\n",
       "      <td>2020-05-10 02:32:30</td>\n",
       "      <td>41.330756</td>\n",
       "      <td>-94.471059</td>\n",
       "      <td>3</td>\n",
       "      <td>0</td>\n",
       "      <td>0</td>\n",
       "      <td>3</td>\n",
       "      <td>Adair, Iowa, US</td>\n",
       "    </tr>\n",
       "  </tbody>\n",
       "</table>\n",
       "</div>"
      ],
      "text/plain": [
       "      FIPS     Admin2  Province_State Country_Region          Last_Update  \\\n",
       "0  45001.0  Abbeville  South Carolina             US  2020-05-10 02:32:30   \n",
       "1  22001.0     Acadia       Louisiana             US  2020-05-10 02:32:30   \n",
       "2  51001.0   Accomack        Virginia             US  2020-05-10 02:32:30   \n",
       "3  16001.0        Ada           Idaho             US  2020-05-10 02:32:30   \n",
       "4  19001.0      Adair            Iowa             US  2020-05-10 02:32:30   \n",
       "\n",
       "         Lat       Long_  Confirmed  Deaths  Recovered  Active  \\\n",
       "0  34.223334  -82.461707         34       0          0      34   \n",
       "1  30.295065  -92.414197        151      11          0     140   \n",
       "2  37.767072  -75.632346        496       7          0     489   \n",
       "3  43.452658 -116.241552        731      19          0     712   \n",
       "4  41.330756  -94.471059          3       0          0       3   \n",
       "\n",
       "                    Combined_Key  \n",
       "0  Abbeville, South Carolina, US  \n",
       "1          Acadia, Louisiana, US  \n",
       "2         Accomack, Virginia, US  \n",
       "3                 Ada, Idaho, US  \n",
       "4                Adair, Iowa, US  "
      ]
     },
     "execution_count": 3,
     "metadata": {},
     "output_type": "execute_result"
    }
   ],
   "source": [
    "df.head()"
   ]
  },
  {
   "cell_type": "markdown",
   "id": "collect-functionality",
   "metadata": {},
   "source": [
    "**Aggregate the data by Country_Region**\n",
    "\n",
    "Aggregate the data by Country_Region and select required columns for our study such as confirmed covid cases, death etc."
   ]
  },
  {
   "cell_type": "code",
   "execution_count": 4,
   "id": "legitimate-berlin",
   "metadata": {},
   "outputs": [],
   "source": [
    "df = df.groupby('Country_Region')[['Confirmed', \n",
    "                                   'Deaths', 'Recovered', 'Active']].sum()\n",
    "df = df.reset_index()\n",
    "# Rename column Country_Region to Country\n",
    "df = df.rename(columns={'Country_Region': 'Country'})"
   ]
  },
  {
   "cell_type": "code",
   "execution_count": 5,
   "id": "listed-above",
   "metadata": {},
   "outputs": [
    {
     "data": {
      "text/html": [
       "<div>\n",
       "<style scoped>\n",
       "    .dataframe tbody tr th:only-of-type {\n",
       "        vertical-align: middle;\n",
       "    }\n",
       "\n",
       "    .dataframe tbody tr th {\n",
       "        vertical-align: top;\n",
       "    }\n",
       "\n",
       "    .dataframe thead th {\n",
       "        text-align: right;\n",
       "    }\n",
       "</style>\n",
       "<table border=\"1\" class=\"dataframe\">\n",
       "  <thead>\n",
       "    <tr style=\"text-align: right;\">\n",
       "      <th></th>\n",
       "      <th>Country</th>\n",
       "      <th>Confirmed</th>\n",
       "      <th>Deaths</th>\n",
       "      <th>Recovered</th>\n",
       "      <th>Active</th>\n",
       "    </tr>\n",
       "  </thead>\n",
       "  <tbody>\n",
       "    <tr>\n",
       "      <th>0</th>\n",
       "      <td>Afghanistan</td>\n",
       "      <td>4042</td>\n",
       "      <td>115</td>\n",
       "      <td>502</td>\n",
       "      <td>3416</td>\n",
       "    </tr>\n",
       "    <tr>\n",
       "      <th>1</th>\n",
       "      <td>Albania</td>\n",
       "      <td>856</td>\n",
       "      <td>31</td>\n",
       "      <td>627</td>\n",
       "      <td>198</td>\n",
       "    </tr>\n",
       "    <tr>\n",
       "      <th>2</th>\n",
       "      <td>Algeria</td>\n",
       "      <td>5558</td>\n",
       "      <td>494</td>\n",
       "      <td>2546</td>\n",
       "      <td>2518</td>\n",
       "    </tr>\n",
       "    <tr>\n",
       "      <th>3</th>\n",
       "      <td>Andorra</td>\n",
       "      <td>754</td>\n",
       "      <td>48</td>\n",
       "      <td>545</td>\n",
       "      <td>161</td>\n",
       "    </tr>\n",
       "    <tr>\n",
       "      <th>4</th>\n",
       "      <td>Angola</td>\n",
       "      <td>43</td>\n",
       "      <td>2</td>\n",
       "      <td>13</td>\n",
       "      <td>28</td>\n",
       "    </tr>\n",
       "  </tbody>\n",
       "</table>\n",
       "</div>"
      ],
      "text/plain": [
       "       Country  Confirmed  Deaths  Recovered  Active\n",
       "0  Afghanistan       4042     115        502    3416\n",
       "1      Albania        856      31        627     198\n",
       "2      Algeria       5558     494       2546    2518\n",
       "3      Andorra        754      48        545     161\n",
       "4       Angola         43       2         13      28"
      ]
     },
     "execution_count": 5,
     "metadata": {},
     "output_type": "execute_result"
    }
   ],
   "source": [
    "df.head()"
   ]
  },
  {
   "cell_type": "markdown",
   "id": "handmade-certificate",
   "metadata": {},
   "source": [
    "**Missing Values in data**"
   ]
  },
  {
   "cell_type": "code",
   "execution_count": 6,
   "id": "sudden-bulgaria",
   "metadata": {},
   "outputs": [
    {
     "data": {
      "text/plain": [
       "Country      0\n",
       "Confirmed    0\n",
       "Deaths       0\n",
       "Recovered    0\n",
       "Active       0\n",
       "dtype: int64"
      ]
     },
     "execution_count": 6,
     "metadata": {},
     "output_type": "execute_result"
    }
   ],
   "source": [
    "df.isnull().sum()"
   ]
  },
  {
   "cell_type": "markdown",
   "id": "ideal-siemens",
   "metadata": {},
   "source": [
    "**Categories the countries into continents**"
   ]
  },
  {
   "cell_type": "code",
   "execution_count": 7,
   "id": "mature-summary",
   "metadata": {},
   "outputs": [],
   "source": [
    "def country_to_continent(country_name:str) -> str:\n",
    "    \"\"\"find continent name of the country\"\"\"\n",
    "    try:\n",
    "        country_alpha2 = pc.country_name_to_country_alpha2(country_name)\n",
    "        continent_code = pc.country_alpha2_to_continent_code(country_alpha2)\n",
    "        continent_name = pc.convert_continent_code_to_continent_name(continent_code)\n",
    "    except:\n",
    "        #if country_name is invalid \n",
    "        continent_name = pd.NA\n",
    "    return continent_name"
   ]
  },
  {
   "cell_type": "code",
   "execution_count": 8,
   "id": "naked-hollow",
   "metadata": {},
   "outputs": [],
   "source": [
    "# Change 'US' to 'United States' in Country field Otherwise country name is considered invalid\n",
    "df.loc[df.Country=='US', 'Country'] = 'United States'\n",
    "# find continent name for the countries\n",
    "df['Continent'] = df.Country.map(country_to_continent)"
   ]
  },
  {
   "cell_type": "markdown",
   "id": "developed-oracle",
   "metadata": {},
   "source": [
    "**Categories the continents into the following four regions for our case study:**\n",
    "    \n",
    "    AFRO: Africa\n",
    "    \n",
    "    AMER: North America and South America\n",
    "    \n",
    "    EURO: Europe\n",
    "    \n",
    "    OCEA: Asia and Oceania"
   ]
  },
  {
   "cell_type": "code",
   "execution_count": 9,
   "id": "weighted-participation",
   "metadata": {},
   "outputs": [],
   "source": [
    "df['Region'] = df.Continent.map({'Africa': 'AFRO', \n",
    "                                 'North America': 'AMR',\n",
    "                                 'South America': 'AMR',\n",
    "                                 'Europe': \"EURO\",\n",
    "                                 'Asia': 'OCEA',\n",
    "                                 'Oceania': 'OCEA'})"
   ]
  },
  {
   "cell_type": "markdown",
   "id": "broke-ontario",
   "metadata": {},
   "source": [
    "**Consider 20 top most affected countries from each region for the study**"
   ]
  },
  {
   "cell_type": "code",
   "execution_count": 10,
   "id": "caroline-reconstruction",
   "metadata": {},
   "outputs": [],
   "source": [
    "df = df.groupby(['Region']) \\\n",
    "    .apply(lambda x: x.sort_values(['Confirmed'], ascending=False)) \\\n",
    "    .reset_index(drop=True) \\\n",
    "    .groupby(['Region']) \\\n",
    "    .head(20)"
   ]
  },
  {
   "cell_type": "code",
   "execution_count": 11,
   "id": "protective-exclusive",
   "metadata": {},
   "outputs": [
    {
     "data": {
      "text/html": [
       "<div>\n",
       "<style scoped>\n",
       "    .dataframe tbody tr th:only-of-type {\n",
       "        vertical-align: middle;\n",
       "    }\n",
       "\n",
       "    .dataframe tbody tr th {\n",
       "        vertical-align: top;\n",
       "    }\n",
       "\n",
       "    .dataframe thead th {\n",
       "        text-align: right;\n",
       "    }\n",
       "</style>\n",
       "<table border=\"1\" class=\"dataframe\">\n",
       "  <thead>\n",
       "    <tr style=\"text-align: right;\">\n",
       "      <th></th>\n",
       "      <th>Country</th>\n",
       "      <th>Confirmed</th>\n",
       "      <th>Deaths</th>\n",
       "      <th>Recovered</th>\n",
       "      <th>Active</th>\n",
       "      <th>Continent</th>\n",
       "      <th>Region</th>\n",
       "    </tr>\n",
       "  </thead>\n",
       "  <tbody>\n",
       "    <tr>\n",
       "      <th>143</th>\n",
       "      <td>Australia</td>\n",
       "      <td>6939</td>\n",
       "      <td>97</td>\n",
       "      <td>6141</td>\n",
       "      <td>701</td>\n",
       "      <td>Oceania</td>\n",
       "      <td>OCEA</td>\n",
       "    </tr>\n",
       "    <tr>\n",
       "      <th>144</th>\n",
       "      <td>Malaysia</td>\n",
       "      <td>6589</td>\n",
       "      <td>108</td>\n",
       "      <td>4929</td>\n",
       "      <td>1552</td>\n",
       "      <td>Asia</td>\n",
       "      <td>OCEA</td>\n",
       "    </tr>\n",
       "    <tr>\n",
       "      <th>145</th>\n",
       "      <td>Kazakhstan</td>\n",
       "      <td>4975</td>\n",
       "      <td>31</td>\n",
       "      <td>1776</td>\n",
       "      <td>3168</td>\n",
       "      <td>Asia</td>\n",
       "      <td>OCEA</td>\n",
       "    </tr>\n",
       "    <tr>\n",
       "      <th>146</th>\n",
       "      <td>Bahrain</td>\n",
       "      <td>4774</td>\n",
       "      <td>8</td>\n",
       "      <td>2055</td>\n",
       "      <td>2711</td>\n",
       "      <td>Asia</td>\n",
       "      <td>OCEA</td>\n",
       "    </tr>\n",
       "    <tr>\n",
       "      <th>147</th>\n",
       "      <td>Afghanistan</td>\n",
       "      <td>4042</td>\n",
       "      <td>115</td>\n",
       "      <td>502</td>\n",
       "      <td>3416</td>\n",
       "      <td>Asia</td>\n",
       "      <td>OCEA</td>\n",
       "    </tr>\n",
       "  </tbody>\n",
       "</table>\n",
       "</div>"
      ],
      "text/plain": [
       "         Country  Confirmed  Deaths  Recovered  Active Continent Region\n",
       "143    Australia       6939      97       6141     701   Oceania   OCEA\n",
       "144     Malaysia       6589     108       4929    1552      Asia   OCEA\n",
       "145   Kazakhstan       4975      31       1776    3168      Asia   OCEA\n",
       "146      Bahrain       4774       8       2055    2711      Asia   OCEA\n",
       "147  Afghanistan       4042     115        502    3416      Asia   OCEA"
      ]
     },
     "execution_count": 11,
     "metadata": {},
     "output_type": "execute_result"
    }
   ],
   "source": [
    "df.tail()"
   ]
  },
  {
   "cell_type": "markdown",
   "id": "broad-citizenship",
   "metadata": {},
   "source": [
    "**Save the preprocessed data**"
   ]
  },
  {
   "cell_type": "code",
   "execution_count": 12,
   "id": "dying-reducing",
   "metadata": {},
   "outputs": [],
   "source": [
    "df.to_csv('data/covid19_preprocessed_data.csv', index=False)"
   ]
  },
  {
   "cell_type": "code",
   "execution_count": null,
   "id": "copyrighted-mapping",
   "metadata": {},
   "outputs": [],
   "source": []
  },
  {
   "cell_type": "code",
   "execution_count": null,
   "id": "requested-sewing",
   "metadata": {},
   "outputs": [],
   "source": []
  }
 ],
 "metadata": {
  "kernelspec": {
   "display_name": "Python 3",
   "language": "python",
   "name": "python3"
  },
  "language_info": {
   "codemirror_mode": {
    "name": "ipython",
    "version": 3
   },
   "file_extension": ".py",
   "mimetype": "text/x-python",
   "name": "python",
   "nbconvert_exporter": "python",
   "pygments_lexer": "ipython3",
   "version": "3.7.6"
  }
 },
 "nbformat": 4,
 "nbformat_minor": 5
}
