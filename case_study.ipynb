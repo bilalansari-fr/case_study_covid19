{
 "cells": [
  {
   "cell_type": "markdown",
   "metadata": {},
   "source": [
    "# CASE STUDY - COVID-19 \n",
    "<HR>"
   ]
  },
  {
   "cell_type": "markdown",
   "metadata": {},
   "source": [
    "# Overview\n",
    "<br>\n",
    "<div style='text-align:justify'>\n",
    "In this case study, we explore the COVID-19 data consisting of confirmed, deaths, recovered, and active cases from all around the world. First, we formulate the hypothesis for our study based on that we design our experiment. One-way ANOVA statistical test fit for our case study but, we observed that raw data violate the normality assumption. So, we apply log transformation to reduce the outlier effect. Different methods like the Q-Q plot, Shapiro-Wilk test are used to test the normality of data. After ANOVA analysis, the Tukey HSD method is used for further investigation.\n",
    "</div>\n",
    "\n",
    "**Content**\n",
    "- Introduction\n",
    "- Hypothesis Formulation\n",
    "- Experimental Design\n",
    "- Analysis and Visualization\n",
    "- Conclusion"
   ]
  },
  {
   "cell_type": "markdown",
   "metadata": {},
   "source": [
    "# Introduction\n",
    "<br>\n",
    "<div style=\"text-align: justify\"> \n",
    "    Coronavirus disease (COVID-19) is an infectious disease caused by a newly discovered coronavirus. It was first identified in December 2019 in Wuhan, China. The WHO declared the outbreak a Public Health Emergency of International Concern in January 2020 and a pandemic in March 2020. \n",
    "It has been observed that the impact of the COVID-19 differs across regions. In this case study, we investigate the statistical significance of COVID-19 across the different regions in the world. Data has been collected on 9th May 2020 for the study from Johns Hopkins University. \n",
    "</div>\n",
    "\n",
    "Data Source: [COVID-19 data Johns Hopkins University](https://github.com/CSSEGISandData/COVID-19)"
   ]
  },
  {
   "cell_type": "markdown",
   "metadata": {},
   "source": [
    "# Hypothesis Formulation\n",
    "<br> \n",
    "<div style='text-align:justify'>\n",
    "    We want to investigate that is there any \n",
    "statistical difference in the number of COVID-19 cases across the different regions in the world? If difference exists, we further identify the pair of regions where the difference lies. For our study, we grouped the countries into four different regions based on the continent. \n",
    "</div>\n",
    "\n",
    "$H_0:$ There is no statistical difference in the mean of COVID-19 cases across the different regions.\n",
    "\n",
    "$H_1:$ Atleast the means of COVID-19 cases of two regions are different from each other."
   ]
  },
  {
   "cell_type": "markdown",
   "metadata": {},
   "source": [
    "# Experimental Design\n",
    "<br>\n",
    "<div style='text-align: justify'>\n",
    "To explore the COVID-19 cases across the different regions and investigate our formulated hypothesis, we use one-way analysis of variance (ANOVA) to determine whether there is any statistically significant difference between the means of COVID-19 cases of two or more regions. One-way ANOVA has been used because we have only one independent variable(i.e., region) and sample data from each region is independent from others. For our study, we consider 20 countries from each region.\n",
    "    \n",
    "- Dependent Variable: number of confirmed cases \n",
    "- Independent Variable: region\n",
    "</div>"
   ]
  },
  {
   "cell_type": "markdown",
   "metadata": {},
   "source": [
    "# Analysis and Visualization"
   ]
  },
  {
   "cell_type": "markdown",
   "metadata": {},
   "source": [
    "**Import the required libraries**"
   ]
  },
  {
   "cell_type": "code",
   "execution_count": 53,
   "metadata": {},
   "outputs": [],
   "source": [
    "import pandas as pd\n",
    "import numpy as np\n",
    "\n",
    "from scipy import stats \n",
    "import statsmodels.api as sm\n",
    "from statsmodels.formula.api import ols\n",
    "from statsmodels.stats.multicomp import MultiComparison\n",
    "\n",
    "#visualization\n",
    "import seaborn as sns\n",
    "import matplotlib.pyplot as plt\n",
    "from statsmodels.graphics.gofplots import ProbPlot"
   ]
  },
  {
   "cell_type": "code",
   "execution_count": 54,
   "metadata": {},
   "outputs": [],
   "source": [
    "plt.style.use('seaborn')\n",
    "plt.rc('font', size=14)\n",
    "plt.rc('figure', titlesize=18)\n",
    "plt.rc('axes', labelsize=15)\n",
    "plt.rc('axes', titlesize=18)"
   ]
  },
  {
   "cell_type": "markdown",
   "metadata": {},
   "source": [
    "**Load preprocessed data**\n",
    "\n",
    "We preprocessed collected data as per the requirement of our case study. Follow [Data Preparation Notebook](data_preparation.ipynb) for details. Preprocessed data has 20 countries from four different regions."
   ]
  },
  {
   "cell_type": "code",
   "execution_count": 55,
   "metadata": {},
   "outputs": [],
   "source": [
    "df = pd.read_csv('data/covid19_preprocessed_data.csv')"
   ]
  },
  {
   "cell_type": "code",
   "execution_count": 76,
   "metadata": {},
   "outputs": [
    {
     "data": {
      "text/html": [
       "<div>\n",
       "<style scoped>\n",
       "    .dataframe tbody tr th:only-of-type {\n",
       "        vertical-align: middle;\n",
       "    }\n",
       "\n",
       "    .dataframe tbody tr th {\n",
       "        vertical-align: top;\n",
       "    }\n",
       "\n",
       "    .dataframe thead th {\n",
       "        text-align: right;\n",
       "    }\n",
       "</style>\n",
       "<table border=\"1\" class=\"dataframe\">\n",
       "  <thead>\n",
       "    <tr style=\"text-align: right;\">\n",
       "      <th></th>\n",
       "      <th>Country</th>\n",
       "      <th>Confirmed</th>\n",
       "      <th>Deaths</th>\n",
       "      <th>Recovered</th>\n",
       "      <th>Active</th>\n",
       "      <th>Continent</th>\n",
       "      <th>Region</th>\n",
       "      <th>log_confirmed</th>\n",
       "    </tr>\n",
       "  </thead>\n",
       "  <tbody>\n",
       "    <tr>\n",
       "      <th>75</th>\n",
       "      <td>Australia</td>\n",
       "      <td>6939</td>\n",
       "      <td>97</td>\n",
       "      <td>6141</td>\n",
       "      <td>701</td>\n",
       "      <td>Oceania</td>\n",
       "      <td>OCEA</td>\n",
       "      <td>8.844913</td>\n",
       "    </tr>\n",
       "    <tr>\n",
       "      <th>76</th>\n",
       "      <td>Malaysia</td>\n",
       "      <td>6589</td>\n",
       "      <td>108</td>\n",
       "      <td>4929</td>\n",
       "      <td>1552</td>\n",
       "      <td>Asia</td>\n",
       "      <td>OCEA</td>\n",
       "      <td>8.793157</td>\n",
       "    </tr>\n",
       "    <tr>\n",
       "      <th>77</th>\n",
       "      <td>Kazakhstan</td>\n",
       "      <td>4975</td>\n",
       "      <td>31</td>\n",
       "      <td>1776</td>\n",
       "      <td>3168</td>\n",
       "      <td>Asia</td>\n",
       "      <td>OCEA</td>\n",
       "      <td>8.512181</td>\n",
       "    </tr>\n",
       "    <tr>\n",
       "      <th>78</th>\n",
       "      <td>Bahrain</td>\n",
       "      <td>4774</td>\n",
       "      <td>8</td>\n",
       "      <td>2055</td>\n",
       "      <td>2711</td>\n",
       "      <td>Asia</td>\n",
       "      <td>OCEA</td>\n",
       "      <td>8.470940</td>\n",
       "    </tr>\n",
       "    <tr>\n",
       "      <th>79</th>\n",
       "      <td>Afghanistan</td>\n",
       "      <td>4042</td>\n",
       "      <td>115</td>\n",
       "      <td>502</td>\n",
       "      <td>3416</td>\n",
       "      <td>Asia</td>\n",
       "      <td>OCEA</td>\n",
       "      <td>8.304495</td>\n",
       "    </tr>\n",
       "  </tbody>\n",
       "</table>\n",
       "</div>"
      ],
      "text/plain": [
       "        Country  Confirmed  Deaths  Recovered  Active Continent Region  \\\n",
       "75    Australia       6939      97       6141     701   Oceania   OCEA   \n",
       "76     Malaysia       6589     108       4929    1552      Asia   OCEA   \n",
       "77   Kazakhstan       4975      31       1776    3168      Asia   OCEA   \n",
       "78      Bahrain       4774       8       2055    2711      Asia   OCEA   \n",
       "79  Afghanistan       4042     115        502    3416      Asia   OCEA   \n",
       "\n",
       "    log_confirmed  \n",
       "75       8.844913  \n",
       "76       8.793157  \n",
       "77       8.512181  \n",
       "78       8.470940  \n",
       "79       8.304495  "
      ]
     },
     "execution_count": 76,
     "metadata": {},
     "output_type": "execute_result"
    }
   ],
   "source": [
    "df.tail()"
   ]
  },
  {
   "cell_type": "markdown",
   "metadata": {},
   "source": [
    "**Normality Test**\n",
    "\n",
    "Before using statistical test(ANOVA) on our data, we check whether the data is normally distributed across the different regions."
   ]
  },
  {
   "cell_type": "code",
   "execution_count": 57,
   "metadata": {},
   "outputs": [
    {
     "data": {
      "text/plain": [
       "<AxesSubplot:title={'center':'Confirmed'}, xlabel='[Region]'>"
      ]
     },
     "execution_count": 57,
     "metadata": {},
     "output_type": "execute_result"
    },
    {
     "data": {
      "image/png": "[encoded data removed]",
      "text/plain": [
       "<Figure size 576x396 with 1 Axes>"
      ]
     },
     "metadata": {},
     "output_type": "display_data"
    }
   ],
   "source": [
    "df.boxplot(column=['Confirmed'], by=['Region'])"
   ]
  },
  {
   "cell_type": "markdown",
   "metadata": {},
   "source": [
    "Raw data does not give a precise and clear picture of data distribution in the quartiles and makes it difficult to interpret accurately. Our raw data is positively skewed. So, we decided to perform the log-transformation on data to reduces the outlier effects and bring the data close to the gaussian distribution."
   ]
  },
  {
   "cell_type": "markdown",
   "metadata": {},
   "source": [
    "**Log Transformation: To reduces the outlier data effects**"
   ]
  },
  {
   "cell_type": "code",
   "execution_count": 58,
   "metadata": {},
   "outputs": [],
   "source": [
    "df['log_confirmed'] = np.log(df['Confirmed'])"
   ]
  },
  {
   "cell_type": "code",
   "execution_count": 59,
   "metadata": {},
   "outputs": [
    {
     "data": {
      "text/plain": [
       "<AxesSubplot:title={'center':'log_confirmed'}, xlabel='[Region]'>"
      ]
     },
     "execution_count": 59,
     "metadata": {},
     "output_type": "execute_result"
    },
    {
     "data": {
      "image/png": "[encoded data removed]",
      "text/plain": [
       "<Figure size 576x396 with 1 Axes>"
      ]
     },
     "metadata": {},
     "output_type": "display_data"
    }
   ],
   "source": [
    "# visualize the transformed data\n",
    "df.boxplot(column=['log_confirmed'], by=['Region'])"
   ]
  },
  {
   "cell_type": "markdown",
   "metadata": {},
   "source": [
    "Now, we can observe that data is not normally distributed since there is a clear difference in the spreads around the median. Further, we can perform a statistical test for normality to make a robust conclusion about the log-transformed data. "
   ]
  },
  {
   "cell_type": "markdown",
   "metadata": {},
   "source": [
    "**Normality Test: Shapiro-Wilk test**\n",
    "\n",
    "It tests the null hypothesis that the data was drawn from a normal distribution."
   ]
  },
  {
   "cell_type": "code",
   "execution_count": 77,
   "metadata": {},
   "outputs": [],
   "source": [
    "def shapiro_test(data:pd.DataFrame, group:str, dep_var:int):\n",
    "    \"\"\"Shapiro test on dependent variable of each group.\"\"\"\n",
    "    res = []\n",
    "    \n",
    "    for group_name in df[group].unique():\n",
    "        group_data = df.loc[df[group]==group_name, dep_var]\n",
    "        statistic, pvalue = stats.shapiro(group_data)\n",
    "        res.append([group_name, statistic, pvalue])\n",
    "    \n",
    "    return pd.DataFrame(res, columns=[group,'statistic','pvalue'])"
   ]
  },
  {
   "cell_type": "code",
   "execution_count": 61,
   "metadata": {},
   "outputs": [
    {
     "data": {
      "text/html": [
       "<div>\n",
       "<style scoped>\n",
       "    .dataframe tbody tr th:only-of-type {\n",
       "        vertical-align: middle;\n",
       "    }\n",
       "\n",
       "    .dataframe tbody tr th {\n",
       "        vertical-align: top;\n",
       "    }\n",
       "\n",
       "    .dataframe thead th {\n",
       "        text-align: right;\n",
       "    }\n",
       "</style>\n",
       "<table border=\"1\" class=\"dataframe\">\n",
       "  <thead>\n",
       "    <tr style=\"text-align: right;\">\n",
       "      <th></th>\n",
       "      <th>Region</th>\n",
       "      <th>statistic</th>\n",
       "      <th>pvalue</th>\n",
       "    </tr>\n",
       "  </thead>\n",
       "  <tbody>\n",
       "    <tr>\n",
       "      <th>0</th>\n",
       "      <td>AFRO</td>\n",
       "      <td>0.891405</td>\n",
       "      <td>0.028542</td>\n",
       "    </tr>\n",
       "    <tr>\n",
       "      <th>1</th>\n",
       "      <td>AMR</td>\n",
       "      <td>0.926439</td>\n",
       "      <td>0.131854</td>\n",
       "    </tr>\n",
       "    <tr>\n",
       "      <th>2</th>\n",
       "      <td>EURO</td>\n",
       "      <td>0.861001</td>\n",
       "      <td>0.008195</td>\n",
       "    </tr>\n",
       "    <tr>\n",
       "      <th>3</th>\n",
       "      <td>OCEA</td>\n",
       "      <td>0.947067</td>\n",
       "      <td>0.324755</td>\n",
       "    </tr>\n",
       "  </tbody>\n",
       "</table>\n",
       "</div>"
      ],
      "text/plain": [
       "  Region  statistic    pvalue\n",
       "0   AFRO   0.891405  0.028542\n",
       "1    AMR   0.926439  0.131854\n",
       "2   EURO   0.861001  0.008195\n",
       "3   OCEA   0.947067  0.324755"
      ]
     },
     "execution_count": 61,
     "metadata": {},
     "output_type": "execute_result"
    }
   ],
   "source": [
    "shapiro_test(df, 'Region', 'log_confirmed')"
   ]
  },
  {
   "cell_type": "markdown",
   "metadata": {},
   "source": [
    "Note: data is not normally distributed for regions AFRO and EURO since we reject the null hypothesis at a significant level alpha=0.05 as per the Shapiro-Wilk test.\n",
    "\n",
    "Since our sample size is small 20 observations from each group. In this scenario, it is highly recommended to do residual analysis [ref. page_417](https://www.amazon.com/Introduction-Statistical-Analysis-Available-Enhanced/dp/0495017582). So, we estimate the linear model on log_confirmed ~ Region and test the normality conditions on residuals."
   ]
  },
  {
   "cell_type": "markdown",
   "metadata": {},
   "source": [
    "**Residuals Analysis**"
   ]
  },
  {
   "cell_type": "code",
   "execution_count": 62,
   "metadata": {},
   "outputs": [],
   "source": [
    "model = ols('log_confirmed ~ C(Region)', df).fit()"
   ]
  },
  {
   "cell_type": "code",
   "execution_count": 63,
   "metadata": {},
   "outputs": [
    {
     "data": {
      "text/html": [
       "<table class=\"simpletable\">\n",
       "<caption>OLS Regression model: log_confirmed~Region</caption>\n",
       "<tr>\n",
       "  <th>Dep. Variable:</th>      <td>log_confirmed</td>  <th>  R-squared:         </th> <td>   0.415</td>\n",
       "</tr>\n",
       "<tr>\n",
       "  <th>Model:</th>                   <td>OLS</td>       <th>  Adj. R-squared:    </th> <td>   0.392</td>\n",
       "</tr>\n",
       "<tr>\n",
       "  <th>Method:</th>             <td>Least Squares</td>  <th>  F-statistic:       </th> <td>   17.99</td>\n",
       "</tr>\n",
       "<tr>\n",
       "  <th>Date:</th>             <td>Thu, 04 Mar 2021</td> <th>  Prob (F-statistic):</th> <td>6.40e-09</td>\n",
       "</tr>\n",
       "<tr>\n",
       "  <th>Time:</th>                 <td>23:48:38</td>     <th>  Log-Likelihood:    </th> <td> -139.96</td>\n",
       "</tr>\n",
       "<tr>\n",
       "  <th>No. Observations:</th>      <td>    80</td>      <th>  AIC:               </th> <td>   287.9</td>\n",
       "</tr>\n",
       "<tr>\n",
       "  <th>Df Residuals:</th>          <td>    76</td>      <th>  BIC:               </th> <td>   297.4</td>\n",
       "</tr>\n",
       "<tr>\n",
       "  <th>Df Model:</th>              <td>     3</td>      <th>                     </th>     <td> </td>   \n",
       "</tr>\n",
       "<tr>\n",
       "  <th>Covariance Type:</th>      <td>nonrobust</td>    <th>                     </th>     <td> </td>   \n",
       "</tr>\n",
       "</table>\n",
       "<table class=\"simpletable\">\n",
       "<tr>\n",
       "          <td></td>             <th>coef</th>     <th>std err</th>      <th>t</th>      <th>P>|t|</th>  <th>[0.025</th>    <th>0.975]</th>  \n",
       "</tr>\n",
       "<tr>\n",
       "  <th>Intercept</th>         <td>    7.4230</td> <td>    0.319</td> <td>   23.250</td> <td> 0.000</td> <td>    6.787</td> <td>    8.059</td>\n",
       "</tr>\n",
       "<tr>\n",
       "  <th>C(Region)[T.AMR]</th>  <td>    1.4558</td> <td>    0.452</td> <td>    3.224</td> <td> 0.002</td> <td>    0.557</td> <td>    2.355</td>\n",
       "</tr>\n",
       "<tr>\n",
       "  <th>C(Region)[T.EURO]</th> <td>    3.1531</td> <td>    0.452</td> <td>    6.983</td> <td> 0.000</td> <td>    2.254</td> <td>    4.052</td>\n",
       "</tr>\n",
       "<tr>\n",
       "  <th>C(Region)[T.OCEA]</th> <td>    2.3708</td> <td>    0.452</td> <td>    5.251</td> <td> 0.000</td> <td>    1.472</td> <td>    3.270</td>\n",
       "</tr>\n",
       "</table>\n",
       "<table class=\"simpletable\">\n",
       "<tr>\n",
       "  <th>Omnibus:</th>       <td>10.002</td> <th>  Durbin-Watson:     </th> <td>   0.551</td>\n",
       "</tr>\n",
       "<tr>\n",
       "  <th>Prob(Omnibus):</th> <td> 0.007</td> <th>  Jarque-Bera (JB):  </th> <td>  10.238</td>\n",
       "</tr>\n",
       "<tr>\n",
       "  <th>Skew:</th>          <td> 0.709</td> <th>  Prob(JB):          </th> <td> 0.00598</td>\n",
       "</tr>\n",
       "<tr>\n",
       "  <th>Kurtosis:</th>      <td> 4.029</td> <th>  Cond. No.          </th> <td>    4.79</td>\n",
       "</tr>\n",
       "</table><br/><br/>Notes:<br/>[1] Standard Errors assume that the covariance matrix of the errors is correctly specified."
      ],
      "text/plain": [
       "<class 'statsmodels.iolib.summary.Summary'>\n",
       "\"\"\"\n",
       "                  OLS Regression model: log_confirmed~Region                  \n",
       "==============================================================================\n",
       "Dep. Variable:          log_confirmed   R-squared:                       0.415\n",
       "Model:                            OLS   Adj. R-squared:                  0.392\n",
       "Method:                 Least Squares   F-statistic:                     17.99\n",
       "Date:                Thu, 04 Mar 2021   Prob (F-statistic):           6.40e-09\n",
       "Time:                        23:48:38   Log-Likelihood:                -139.96\n",
       "No. Observations:                  80   AIC:                             287.9\n",
       "Df Residuals:                      76   BIC:                             297.4\n",
       "Df Model:                           3                                         \n",
       "Covariance Type:            nonrobust                                         \n",
       "=====================================================================================\n",
       "                        coef    std err          t      P>|t|      [0.025      0.975]\n",
       "-------------------------------------------------------------------------------------\n",
       "Intercept             7.4230      0.319     23.250      0.000       6.787       8.059\n",
       "C(Region)[T.AMR]      1.4558      0.452      3.224      0.002       0.557       2.355\n",
       "C(Region)[T.EURO]     3.1531      0.452      6.983      0.000       2.254       4.052\n",
       "C(Region)[T.OCEA]     2.3708      0.452      5.251      0.000       1.472       3.270\n",
       "==============================================================================\n",
       "Omnibus:                       10.002   Durbin-Watson:                   0.551\n",
       "Prob(Omnibus):                  0.007   Jarque-Bera (JB):               10.238\n",
       "Skew:                           0.709   Prob(JB):                      0.00598\n",
       "Kurtosis:                       4.029   Cond. No.                         4.79\n",
       "==============================================================================\n",
       "\n",
       "Notes:\n",
       "[1] Standard Errors assume that the covariance matrix of the errors is correctly specified.\n",
       "\"\"\""
      ]
     },
     "execution_count": 63,
     "metadata": {},
     "output_type": "execute_result"
    }
   ],
   "source": [
    "model.summary(title=\"OLS Regression model: log_confirmed~Region\")"
   ]
  },
  {
   "cell_type": "code",
   "execution_count": 64,
   "metadata": {},
   "outputs": [
    {
     "name": "stdout",
     "output_type": "stream",
     "text": [
      "Overall model F( 3, 76) =  17.995, p_value =  0.0000\n"
     ]
    }
   ],
   "source": [
    "# significance of overall model\n",
    "print(f\"Overall model F({model.df_model: .0f},{model.df_resid: .0f}) = {model.fvalue: .3f}, p_value = {model.f_pvalue: .4f}\")"
   ]
  },
  {
   "cell_type": "markdown",
   "metadata": {},
   "source": [
    "We can see that our model is significant at alpha=0.01"
   ]
  },
  {
   "cell_type": "markdown",
   "metadata": {},
   "source": [
    "**Residuals vs Fitted plot**\n",
    "\n",
    "If there are any nonlinear patterns in the residuals, and thus in the data as well. One of the mathematical assumptions in building an OLS model is that the data can be fit by a line. If this assumption holds and our data can be fit by a linear model, then we should see a relatively flat line when looking at the residuals vs fitted."
   ]
  },
  {
   "cell_type": "code",
   "execution_count": 66,
   "metadata": {},
   "outputs": [
    {
     "data": {
      "text/plain": [
       "Text(0, 0.5, 'Residuals')"
      ]
     },
     "execution_count": 66,
     "metadata": {},
     "output_type": "execute_result"
    },
    {
     "data": {
      "image/png": "[encoded data removed]",
      "text/plain": [
       "<Figure size 576x396 with 1 Axes>"
      ]
     },
     "metadata": {},
     "output_type": "display_data"
    }
   ],
   "source": [
    "# Residuals vs Fitted plot\n",
    "ax = sns.residplot(x=model.fittedvalues, \n",
    "                   y=model.resid,\n",
    "                   lowess=True,\n",
    "                   scatter_kws={'alpha': 0.5},\n",
    "                   line_kws={'color': 'red', 'lw': 1, 'alpha': 0.8})\n",
    "ax.set_title('Residuals vs Fitted')\n",
    "ax.set_xlabel('Fitted values')\n",
    "ax.set_ylabel('Residuals')"
   ]
  },
  {
   "cell_type": "markdown",
   "metadata": {},
   "source": [
    "Note: The residuals in the plot are evenly distributed in the lower\n",
    "and upper boundaries revealing normality condition. We will further prove the normality of residuals using Normal QQ-Plot, Normal PP-Plot and histogram."
   ]
  },
  {
   "cell_type": "markdown",
   "metadata": {},
   "source": [
    "**Normality Test on residuals: Normal Q-Q Plot**"
   ]
  },
  {
   "cell_type": "code",
   "execution_count": 69,
   "metadata": {},
   "outputs": [],
   "source": [
    "def normality_plot(data, fig):\n",
    "    \"\"\"plot QQ-plot and PP-plot to observe the normality in data\n",
    "    \n",
    "    Note: the normal P-P plot is better at finding deviations from normality in the center \n",
    "    of the distribution, and the normal Q-Q plot is better at finding deviations in the tails.  \n",
    "    Q-Q plots tend to be preferred in research situations. \n",
    "    \"\"\"\n",
    "    PP = ProbPlot(data)\n",
    "\n",
    "    ax1 = fig.add_subplot(1,2,1)\n",
    "    PP.qqplot(line='45', alpha=0.1, lw=1, ax=ax1)\n",
    "    ax1.set_title('Normal Q-Q')\n",
    "    ax1.set_xlabel('Theoretical Quantiles')\n",
    "    ax1.set_ylabel('Standardized Residuals')\n",
    "\n",
    "    ax2 = fig.add_subplot(1,2,2)\n",
    "    ax2.set_title('Normal P-P')\n",
    "    PP.ppplot(line='45', alpha=0.1, lw=1, ax=ax2)"
   ]
  },
  {
   "cell_type": "code",
   "execution_count": 70,
   "metadata": {},
   "outputs": [
    {
     "data": {
      "image/png": "[encoded data removed]",
      "text/plain": [
       "<Figure size 720x360 with 2 Axes>"
      ]
     },
     "metadata": {},
     "output_type": "display_data"
    }
   ],
   "source": [
    "model_norm_residuals = model.get_influence().resid_studentized_internal\n",
    "normality_plot(model_norm_residuals, plt.figure(figsize=(10,5)))"
   ]
  },
  {
   "cell_type": "markdown",
   "metadata": {},
   "source": [
    "Note: All of the residuals lying on or close to the red line in both plots so we conclude that residuals is approximately normally distributed."
   ]
  },
  {
   "cell_type": "markdown",
   "metadata": {},
   "source": [
    "**Normality Test on residuals: Histogram**"
   ]
  },
  {
   "cell_type": "code",
   "execution_count": 71,
   "metadata": {},
   "outputs": [
    {
     "data": {
      "text/plain": [
       "<AxesSubplot:ylabel='Count'>"
      ]
     },
     "execution_count": 71,
     "metadata": {},
     "output_type": "execute_result"
    },
    {
     "data": {
      "image/png": "[encoded data removed]",
      "text/plain": [
       "<Figure size 576x396 with 1 Axes>"
      ]
     },
     "metadata": {},
     "output_type": "display_data"
    }
   ],
   "source": [
    "sns.histplot(data=model.resid, kde=True)"
   ]
  },
  {
   "cell_type": "markdown",
   "metadata": {},
   "source": [
    "**ANOVA Table**"
   ]
  },
  {
   "cell_type": "code",
   "execution_count": 72,
   "metadata": {},
   "outputs": [
    {
     "data": {
      "text/html": [
       "<div>\n",
       "<style scoped>\n",
       "    .dataframe tbody tr th:only-of-type {\n",
       "        vertical-align: middle;\n",
       "    }\n",
       "\n",
       "    .dataframe tbody tr th {\n",
       "        vertical-align: top;\n",
       "    }\n",
       "\n",
       "    .dataframe thead th {\n",
       "        text-align: right;\n",
       "    }\n",
       "</style>\n",
       "<table border=\"1\" class=\"dataframe\">\n",
       "  <thead>\n",
       "    <tr style=\"text-align: right;\">\n",
       "      <th></th>\n",
       "      <th>df</th>\n",
       "      <th>sum_sq</th>\n",
       "      <th>mean_sq</th>\n",
       "      <th>F</th>\n",
       "      <th>PR(&gt;F)</th>\n",
       "    </tr>\n",
       "  </thead>\n",
       "  <tbody>\n",
       "    <tr>\n",
       "      <th>C(Region)</th>\n",
       "      <td>3.0</td>\n",
       "      <td>110.060500</td>\n",
       "      <td>36.686833</td>\n",
       "      <td>17.994961</td>\n",
       "      <td>6.403435e-09</td>\n",
       "    </tr>\n",
       "    <tr>\n",
       "      <th>Residual</th>\n",
       "      <td>76.0</td>\n",
       "      <td>154.943341</td>\n",
       "      <td>2.038728</td>\n",
       "      <td>NaN</td>\n",
       "      <td>NaN</td>\n",
       "    </tr>\n",
       "  </tbody>\n",
       "</table>\n",
       "</div>"
      ],
      "text/plain": [
       "             df      sum_sq    mean_sq          F        PR(>F)\n",
       "C(Region)   3.0  110.060500  36.686833  17.994961  6.403435e-09\n",
       "Residual   76.0  154.943341   2.038728        NaN           NaN"
      ]
     },
     "execution_count": 72,
     "metadata": {},
     "output_type": "execute_result"
    }
   ],
   "source": [
    "anova_table = sm.stats.anova_lm(model, typ= 1)\n",
    "anova_table"
   ]
  },
  {
   "cell_type": "markdown",
   "metadata": {},
   "source": [
    "Note: Difference in number of cases among the regions is significant at alpha=0.05 so, we reject the null hypothesis in favour of alternative. However, we don’t know where the difference between regions is yet. So, we will do Post Hoc test to investigate further where the difference lies."
   ]
  },
  {
   "cell_type": "markdown",
   "metadata": {},
   "source": [
    "**Post Hoc Test: Tukey HSD**"
   ]
  },
  {
   "cell_type": "markdown",
   "metadata": {},
   "source": [
    "We will examine where differences in the number of cases among the regions lies using the Tukey HSD test."
   ]
  },
  {
   "cell_type": "code",
   "execution_count": 73,
   "metadata": {},
   "outputs": [
    {
     "name": "stdout",
     "output_type": "stream",
     "text": [
      "Multiple Comparison of Means - Tukey HSD, FWER=0.05\n",
      "===================================================\n",
      "group1 group2 meandiff p-adj   lower  upper  reject\n",
      "---------------------------------------------------\n",
      "  AFRO    AMR   1.4558 0.0099  0.2697 2.6419   True\n",
      "  AFRO   EURO   3.1531  0.001   1.967 4.3392   True\n",
      "  AFRO   OCEA   2.3708  0.001  1.1847 3.5569   True\n",
      "   AMR   EURO   1.6973 0.0019  0.5112 2.8834   True\n",
      "   AMR   OCEA    0.915 0.1874 -0.2711 2.1011  False\n",
      "  EURO   OCEA  -0.7823 0.3143 -1.9684 0.4038  False\n",
      "---------------------------------------------------\n"
     ]
    }
   ],
   "source": [
    "mc = MultiComparison(df['log_confirmed'],df['Region'])\n",
    "results = mc.tukeyhsd()\n",
    "print(results)"
   ]
  },
  {
   "cell_type": "markdown",
   "metadata": {},
   "source": [
    "Note: The mean COVID-19 cases for AFRO region is statistically different from other regions AMR, EURO, and OCEA at 0.05% significance level. Also, mean COVID-19 cases for AMR-EURO regions is statistically different at 0.05% significance level. At 95% confidence level both AMR-OCEA and EURO-OCEA pair of regions are not significantly different."
   ]
  },
  {
   "cell_type": "code",
   "execution_count": 74,
   "metadata": {},
   "outputs": [],
   "source": [
    "def plot_pairwise_confint(confint, meandiffs, pairs):\n",
    "    \"\"\"plot pairwise confidence internval for the groups\"\"\"\n",
    "    for lower, upper, mean, pair in zip(confint[:,0],\n",
    "                                        confint[:,1], \n",
    "                                        meandiffs,\n",
    "                                        pairs):\n",
    "        plt.hlines(pair, lower, upper)\n",
    "        plt.plot(mean, pair, \"-o\")\n",
    "    plt.axvline(x=0, color = 'r', linestyle = 'dashed', label = \"red line\")     "
   ]
  },
  {
   "cell_type": "code",
   "execution_count": 75,
   "metadata": {},
   "outputs": [
    {
     "data": {
      "image/png": "[encoded data removed]",
      "text/plain": [
       "<Figure size 576x396 with 1 Axes>"
      ]
     },
     "metadata": {},
     "output_type": "display_data"
    }
   ],
   "source": [
    "lst = np.unique(mc.groups)\n",
    "labels = [str(g1+'-'+g2) for i,g1 in enumerate(lst) for j,g2 in enumerate(lst) if i<j ]\n",
    "\n",
    "plot_pairwise_confint(results.confint, results.meandiffs, labels)"
   ]
  },
  {
   "cell_type": "markdown",
   "metadata": {},
   "source": [
    "# Conclusion\n",
    "<br>\n",
    "<div style='text-align:justify'>\n",
    "    Statistical analysis has been conducted to establish the statistical significance of COVID-19 cases across the different regions. Raw data was not normally distributed. So, we decided to apply log transformation to reduce the outlier effect. Further, we did residual analysis using linear model confirmed_cases~Region, residuals normality has been tested. Then, we analyze the ANOVA result and observed that there is a statistically significant difference in means of COVID-19 cases across the different regions. For further investigation where the difference exists, we used the Tukey HSD test and observed that the mean of COVID-19 cases for the AFRO region is statistically different from other regions AMR, EURO, and OCEA at 0.05% significance level. It might be because of low testing capacity resulting from few testing equipment in Africa. Also, mean COVID-19 cases for AMR-EURO regions are statistically different at a 0.05% significance level. At 95% confidence level both AMR-OCEA and EURO-OCEA pair of regions are not significantly different.\n",
    "</div>\n"
   ]
  },
  {
   "cell_type": "code",
   "execution_count": null,
   "metadata": {},
   "outputs": [],
   "source": []
  },
  {
   "cell_type": "code",
   "execution_count": null,
   "metadata": {},
   "outputs": [],
   "source": []
  },
  {
   "cell_type": "code",
   "execution_count": null,
   "metadata": {},
   "outputs": [],
   "source": []
  },
  {
   "cell_type": "code",
   "execution_count": null,
   "metadata": {},
   "outputs": [],
   "source": []
  }
 ],
 "metadata": {
  "kernelspec": {
   "display_name": "Python 3",
   "language": "python",
   "name": "python3"
  },
  "language_info": {
   "codemirror_mode": {
    "name": "ipython",
    "version": 3
   },
   "file_extension": ".py",
   "mimetype": "text/x-python",
   "name": "python",
   "nbconvert_exporter": "python",
   "pygments_lexer": "ipython3",
   "version": "3.7.6"
  }
 },
 "nbformat": 4,
 "nbformat_minor": 4
}
